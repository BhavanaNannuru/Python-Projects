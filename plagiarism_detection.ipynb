{
 "cells": [
  {
   "cell_type": "markdown",
   "id": "a1b8b235",
   "metadata": {},
   "source": [
    "# 🔍 Plagiarism Detection using Jaccard Similarity\n",
    "\n",
    "In this project, we build a simple text similarity checker using **Jaccard Similarity**.  \n",
    "You'll learn:\n",
    "- How to tokenize and clean text\n",
    "- Use of Python sets\n",
    "- Basic scikit-learn preprocessing\n"
   ]
  },
  {
   "cell_type": "code",
   "execution_count": 13,
   "id": "4e0e1564",
   "metadata": {},
   "outputs": [],
   "source": [
    "# Function to define jaccard similarity \n",
    "def jaccard_similarity(doc1, doc2):\n",
    "    words_doc1 = set(doc1.lower().split())\n",
    "    words_doc2 = set(doc2.lower().split())\n",
    "\n",
    "    intersection = words_doc1.intersection(words_doc2)\n",
    "    union = words_doc1.union(words_doc2)\n",
    "\n",
    "    similarity = len(intersection)/len(union)\n",
    "    return similarity"
   ]
  },
  {
   "cell_type": "code",
   "execution_count": 15,
   "id": "fc5b5f63",
   "metadata": {},
   "outputs": [
    {
     "name": "stdout",
     "output_type": "stream",
     "text": [
      "Similarity Score 0.31\n",
      "Sufficiently different\n"
     ]
    }
   ],
   "source": [
    "doc1 = \"I am a very good girl, said my old teacher!\"\n",
    "doc2 = \"Am I really a good boy, dude?\"\n",
    "\n",
    "score = jaccard_similarity(doc1,doc2)\n",
    "print(f\"Similarity Score {score:.2f}\")\n",
    "\n",
    "if score > 0.5:\n",
    "    print(\"Possible Plagiarism\")\n",
    "else:\n",
    "    print(\"Sufficiently different\")\n"
   ]
  },
  {
   "cell_type": "code",
   "execution_count": 25,
   "id": "5369de2a",
   "metadata": {},
   "outputs": [
    {
     "name": "stdout",
     "output_type": "stream",
     "text": [
      "Similarity Score: 0.18\n",
      "Sufficiently different\n"
     ]
    }
   ],
   "source": [
    "from sklearn.feature_extraction.text import CountVectorizer\n",
    "from sklearn.metrics import jaccard_score\n",
    "import numpy as np\n",
    "\n",
    "def jaccard_similarity_sklearn(doc1, doc2):\n",
    "    vectorizer = CountVectorizer(binary=True)\n",
    "    vectors = vectorizer.fit_transform([doc1, doc2]).toarray()\n",
    "    return jaccard_score(vectors[0], vectors[1])\n",
    "\n",
    "# Test case\n",
    "doc1 = \"I am a very good girl, said my old teacher!\"\n",
    "doc2 = \"Am I really a good boy, dude?\"\n",
    "\n",
    "score = jaccard_similarity_sklearn(doc1, doc2)\n",
    "print(f\"Similarity Score: {score:.2f}\")\n",
    "\n",
    "if score > 0.5:\n",
    "    print(\"Possible Plagiarism\")\n",
    "else:\n",
    "    print(\"Sufficiently different\")\n"
   ]
  }
 ],
 "metadata": {
  "kernelspec": {
   "display_name": "Python 3",
   "language": "python",
   "name": "python3"
  },
  "language_info": {
   "codemirror_mode": {
    "name": "ipython",
    "version": 3
   },
   "file_extension": ".py",
   "mimetype": "text/x-python",
   "name": "python",
   "nbconvert_exporter": "python",
   "pygments_lexer": "ipython3",
   "version": "3.9.7"
  }
 },
 "nbformat": 4,
 "nbformat_minor": 5
}
