{
 "cells": [
  {
   "cell_type": "markdown",
   "id": "77e25d1b",
   "metadata": {},
   "source": [
    "# 🧾 QR Code Generator in Python\n",
    "\n",
    "This script generates a QR code from any text or URL input using Python. It saves the QR code as an image and optionally opens it.\n",
    "\n",
    "## 📦 Requirements\n",
    "\n",
    "Install the required packages using pip:\n",
    "\n",
    "```bash\n",
    "pip install qrcode[pil]\n"
   ]
  },
  {
   "cell_type": "code",
   "execution_count": null,
   "id": "b4b8465c",
   "metadata": {},
   "outputs": [],
   "source": [
    "pip install qrcode[pil]"
   ]
  },
  {
   "cell_type": "code",
   "execution_count": 2,
   "id": "9224bcf8",
   "metadata": {},
   "outputs": [],
   "source": [
    "import qrcode\n",
    "from PIL import Image"
   ]
  },
  {
   "cell_type": "code",
   "execution_count": 3,
   "id": "2ef99135",
   "metadata": {},
   "outputs": [],
   "source": [
    "import qrcode.constants\n",
    "\n",
    "\n",
    "def generate_qr(data, filename=\"qrcode.png\"):\n",
    "    qr = qrcode.QRCode(version=1,error_correction=qrcode.constants.ERROR_CORRECT_H,box_size=10,border=4)\n",
    "    qr.add_data(data)\n",
    "    qr.make(fit=True)\n",
    "\n",
    "    img = qr.make_image(fill_color=\"black\", back_color=\"white\")\n",
    "    img.save(filename)\n",
    "    img.show()"
   ]
  },
  {
   "cell_type": "code",
   "execution_count": 4,
   "id": "b8f38786",
   "metadata": {},
   "outputs": [],
   "source": [
    "url = \"https://www.youtube.com/\"\n",
    "generate_qr(url)"
   ]
  }
 ],
 "metadata": {
  "kernelspec": {
   "display_name": "Python 3",
   "language": "python",
   "name": "python3"
  },
  "language_info": {
   "codemirror_mode": {
    "name": "ipython",
    "version": 3
   },
   "file_extension": ".py",
   "mimetype": "text/x-python",
   "name": "python",
   "nbconvert_exporter": "python",
   "pygments_lexer": "ipython3",
   "version": "3.9.7"
  }
 },
 "nbformat": 4,
 "nbformat_minor": 5
}
