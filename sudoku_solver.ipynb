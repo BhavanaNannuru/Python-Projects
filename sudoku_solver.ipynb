{
 "cells": [
  {
   "cell_type": "markdown",
   "id": "3aea023a",
   "metadata": {},
   "source": [
    "# 🧠 Sudoku Solver using Backtracking in Python\n",
    "\n",
    "This notebook walks through building a Sudoku solver from scratch using Python.  \n",
    "We’ll use **backtracking**, an elegant algorithm that recursively tries digits and backtracks when stuck.  \n",
    "\n",
    "🔍 The goal: Solve a 9x9 Sudoku puzzle, modifying the board in-place.  \n",
    "✅ The final board must obey all Sudoku rules.\n"
   ]
  },
  {
   "cell_type": "code",
   "execution_count": 1,
   "id": "2829ece7",
   "metadata": {},
   "outputs": [],
   "source": [
    "#Sample board\n",
    "board = [\n",
    "    [\"5\",\"3\",\".\",\".\",\"7\",\".\",\".\",\".\",\".\"],\n",
    "    [\"6\",\".\",\".\",\"1\",\"9\",\"5\",\".\",\".\",\".\"],\n",
    "    [\".\",\"9\",\"8\",\".\",\".\",\".\",\".\",\"6\",\".\"],\n",
    "    [\"8\",\".\",\".\",\".\",\"6\",\".\",\".\",\".\",\"3\"],\n",
    "    [\"4\",\".\",\".\",\"8\",\".\",\"3\",\".\",\".\",\"1\"],\n",
    "    [\"7\",\".\",\".\",\".\",\"2\",\".\",\".\",\".\",\"6\"],\n",
    "    [\".\",\"6\",\".\",\".\",\".\",\".\",\"2\",\"8\",\".\"],\n",
    "    [\".\",\".\",\".\",\"4\",\"1\",\"9\",\".\",\".\",\"5\"],\n",
    "    [\".\",\".\",\".\",\".\",\"8\",\".\",\".\",\"7\",\"9\"]\n",
    "]\n"
   ]
  },
  {
   "cell_type": "code",
   "execution_count": 5,
   "id": "ea9216aa",
   "metadata": {},
   "outputs": [],
   "source": [
    "# Helper function to print the board\n",
    "def print_board(board):\n",
    "    for i,row in enumerate(board):\n",
    "        if i%3 == 0 and i!=0:\n",
    "            print(\"-\"*23)\n",
    "        row_display=\"\"\n",
    "        for j, val in enumerate(row):\n",
    "            if j % 3 == 0 and j != 0:\n",
    "                row_display += \" |\"\n",
    "            row_display += f\" {val}\"\n",
    "        print(row_display)"
   ]
  },
  {
   "cell_type": "code",
   "execution_count": 6,
   "id": "a69fa1bf",
   "metadata": {},
   "outputs": [
    {
     "name": "stdout",
     "output_type": "stream",
     "text": [
      " 5 3 . | . 7 . | . . .\n",
      " 6 . . | 1 9 5 | . . .\n",
      " . 9 8 | . . . | . 6 .\n",
      "-----------------------\n",
      " 8 . . | . 6 . | . . 3\n",
      " 4 . . | 8 . 3 | . . 1\n",
      " 7 . . | . 2 . | . . 6\n",
      "-----------------------\n",
      " . 6 . | . . . | 2 8 .\n",
      " . . . | 4 1 9 | . . 5\n",
      " . . . | . 8 . | . 7 9\n"
     ]
    }
   ],
   "source": [
    "print_board(board)"
   ]
  },
  {
   "cell_type": "code",
   "execution_count": 10,
   "id": "71710de0",
   "metadata": {},
   "outputs": [],
   "source": [
    "rows = [set() for _ in range(9)]\n",
    "cols = [set() for _ in range(9)]\n",
    "boxes = [set() for _ in range(9)]\n",
    "\n",
    "for r in range(9):\n",
    "    for c in range(9):\n",
    "        val = board[r][c]\n",
    "        if val != \".\":\n",
    "            rows[r].add(val)\n",
    "            cols[c].add(val)\n",
    "            box_index = (r//3)*3 + c//3\n",
    "            boxes[box_index].add(val)"
   ]
  },
  {
   "cell_type": "code",
   "execution_count": 11,
   "id": "0c156b06",
   "metadata": {},
   "outputs": [
    {
     "name": "stdout",
     "output_type": "stream",
     "text": [
      "[{'5', '7', '3'}, {'6', '5', '9', '1'}, {'6', '8', '9'}, {'6', '8', '3'}, {'4', '8', '1', '3'}, {'6', '2', '7'}, {'6', '8', '2'}, {'4', '5', '9', '1'}, {'8', '9', '7'}]\n",
      "________________\n",
      "[{'8', '4', '7', '6', '5'}, {'6', '9', '3'}, {'8'}, {'4', '8', '1'}, {'8', '2', '9', '7', '1', '6'}, {'5', '9', '3'}, {'2'}, {'6', '8', '7'}, {'3', '9', '1', '6', '5'}]\n",
      "_________________________\n",
      "[{'8', '3', '9', '6', '5'}, {'1', '5', '9', '7'}, {'6'}, {'4', '8', '7'}, {'6', '8', '2', '3'}, {'6', '1', '3'}, {'6'}, {'4', '8', '9', '1'}, {'8', '2', '9', '7', '5'}]\n"
     ]
    }
   ],
   "source": [
    "print(rows)\n",
    "print(\"________________\")\n",
    "print(cols)\n",
    "print(\"_________________________\")\n",
    "print(boxes)"
   ]
  },
  {
   "cell_type": "code",
   "execution_count": 12,
   "id": "726c9c77",
   "metadata": {},
   "outputs": [],
   "source": [
    "# Function to sudoku solver\n",
    "\n",
    "def solve_sudoku(board):\n",
    "    def backtrack(r=0,c=0):\n",
    "        if c==9:\n",
    "            return backtrack(r+1,0)\n",
    "        if r==9:\n",
    "            return True\n",
    "        if board[r][c] != \".\":\n",
    "            return backtrack(r,c+1)\n",
    "        box_index = (r//3)*3+ (c//3)\n",
    "\n",
    "        for digit in map(str,range(1,10)):\n",
    "            if (digit in rows[r] or digit in cols[c] or digit in boxes[box_index]):\n",
    "                continue\n",
    "            board[r][c] = digit\n",
    "            rows[r].add(digit)\n",
    "            cols[c].add(digit)\n",
    "            boxes[box_index].add(digit)\n",
    "\n",
    "            if backtrack(r,c+1):\n",
    "                return True\n",
    "            board[r][c] = \".\"\n",
    "            rows[r].remove(digit)\n",
    "            cols[c].remove(digit)\n",
    "            boxes[box_index].remove(digit)\n",
    "\n",
    "        return False\n",
    "    backtrack()\n"
   ]
  },
  {
   "cell_type": "code",
   "execution_count": 13,
   "id": "9ce04f9e",
   "metadata": {},
   "outputs": [
    {
     "name": "stdout",
     "output_type": "stream",
     "text": [
      "🧩 Initial Board:\n",
      " 5 3 . | . 7 . | . . .\n",
      " 6 . . | 1 9 5 | . . .\n",
      " . 9 8 | . . . | . 6 .\n",
      "-----------------------\n",
      " 8 . . | . 6 . | . . 3\n",
      " 4 . . | 8 . 3 | . . 1\n",
      " 7 . . | . 2 . | . . 6\n",
      "-----------------------\n",
      " . 6 . | . . . | 2 8 .\n",
      " . . . | 4 1 9 | . . 5\n",
      " . . . | . 8 . | . 7 9\n",
      "\n",
      "✅ Solved Board:\n",
      " 5 3 4 | 6 7 8 | 9 1 2\n",
      " 6 7 2 | 1 9 5 | 3 4 8\n",
      " 1 9 8 | 3 4 2 | 5 6 7\n",
      "-----------------------\n",
      " 8 5 9 | 7 6 1 | 4 2 3\n",
      " 4 2 6 | 8 5 3 | 7 9 1\n",
      " 7 1 3 | 9 2 4 | 8 5 6\n",
      "-----------------------\n",
      " 9 6 1 | 5 3 7 | 2 8 4\n",
      " 2 8 7 | 4 1 9 | 6 3 5\n",
      " 3 4 5 | 2 8 6 | 1 7 9\n"
     ]
    }
   ],
   "source": [
    "print(\"🧩 Initial Board:\")\n",
    "print_board(board)  # Show board before solving\n",
    "\n",
    "solve_sudoku(board)  # Solve it in-place\n",
    "\n",
    "print(\"\\n✅ Solved Board:\")\n",
    "print_board(board)  # Show the completed board\n"
   ]
  }
 ],
 "metadata": {
  "kernelspec": {
   "display_name": "Python 3",
   "language": "python",
   "name": "python3"
  },
  "language_info": {
   "codemirror_mode": {
    "name": "ipython",
    "version": 3
   },
   "file_extension": ".py",
   "mimetype": "text/x-python",
   "name": "python",
   "nbconvert_exporter": "python",
   "pygments_lexer": "ipython3",
   "version": "3.9.7"
  }
 },
 "nbformat": 4,
 "nbformat_minor": 5
}
